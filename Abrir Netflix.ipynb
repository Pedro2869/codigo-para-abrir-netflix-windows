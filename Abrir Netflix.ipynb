{
 "cells": [
  {
   "cell_type": "code",
   "execution_count": 6,
   "id": "6a5a58e6",
   "metadata": {},
   "outputs": [],
   "source": [
    "import pyautogui\n",
    "import pyperclip\n",
    "import time\n",
    "\n",
    "pyautogui.PAUSE = 1\n",
    "\n",
    "# pyautogui.click -> clicar\n",
    "# pyautogui.press -> apertar 1 tecla\n",
    "# pyautogui.hotkey -> conjunto de teclas\n",
    "# pyautogui,write -> escreve um texto\n",
    "\n",
    "pyautogui.press(\"win\")\n",
    "pyautogui.write(\"netflix\")\n",
    "\n",
    "pyautogui.press(\"enter\")\n",
    "time.sleep(10)\n",
    "\n",
    "pyautogui.click(x=1239, y=64)\n",
    "pyautogui.click(x=613, y=67)\n",
    "pyautogui.write('Flash')\n",
    "time.sleep(2)\n",
    "pyautogui.click(x=232, y=223)"
   ]
  },
  {
   "cell_type": "code",
   "execution_count": 7,
   "id": "a2815d30",
   "metadata": {},
   "outputs": [
    {
     "data": {
      "text/plain": [
       "Point(x=232, y=223)"
      ]
     },
     "execution_count": 7,
     "metadata": {},
     "output_type": "execute_result"
    }
   ],
   "source": [
    "time.sleep(5)\n",
    "pyautogui.position()"
   ]
  },
  {
   "cell_type": "code",
   "execution_count": null,
   "id": "c6b7ecbf",
   "metadata": {},
   "outputs": [],
   "source": []
  }
 ],
 "metadata": {
  "kernelspec": {
   "display_name": "Python 3 (ipykernel)",
   "language": "python",
   "name": "python3"
  },
  "language_info": {
   "codemirror_mode": {
    "name": "ipython",
    "version": 3
   },
   "file_extension": ".py",
   "mimetype": "text/x-python",
   "name": "python",
   "nbconvert_exporter": "python",
   "pygments_lexer": "ipython3",
   "version": "3.9.12"
  }
 },
 "nbformat": 4,
 "nbformat_minor": 5
}
